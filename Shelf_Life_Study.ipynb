{
 "cells": [
  {
   "cell_type": "markdown",
   "metadata": {},
   "source": [
    "# Shelf Life Study : Data Science in Research & Development"
   ]
  },
  {
   "cell_type": "markdown",
   "metadata": {},
   "source": [
    "Snack product shelf life is determined with a specific test protocol. As samples age, a sensory panel evaluates the aged sample versus a fresh sample. The dataset consists of 81 individual shelf life studies (Identified by the Study Number column) across a wide variety of snack products. Each of these studies has one or more samples. The column in the dataset named “Difference From Fresh” is the response from the sensory panel that were aged and evaluated by the sensory panel. Without going into the details of how this measure is generated, when this value is 20 or greater the aged sample at that time point is considered different enough from fresh that the product has reached its maximum shelf life."
   ]
  },
  {
   "cell_type": "markdown",
   "metadata": {},
   "source": [
    "## Preparation"
   ]
  },
  {
   "cell_type": "markdown",
   "metadata": {},
   "source": [
    "### Importing Necessary Modules and Data"
   ]
  },
  {
   "cell_type": "code",
   "execution_count": 463,
   "metadata": {},
   "outputs": [],
   "source": [
    "import pandas as pd\n",
    "import numpy as np\n",
    "\n",
    "import matplotlib.pyplot as plt\n",
    "import seaborn as sns"
   ]
  },
  {
   "cell_type": "code",
   "execution_count": 464,
   "metadata": {},
   "outputs": [],
   "source": [
    "%matplotlib inline"
   ]
  },
  {
   "cell_type": "code",
   "execution_count": 546,
   "metadata": {},
   "outputs": [],
   "source": [
    "df = pd.read_csv('/Users/liudingning/Desktop/sum/pepsi.co/shelf-life-study-data.csv')"
   ]
  },
  {
   "cell_type": "code",
   "execution_count": 547,
   "metadata": {},
   "outputs": [
    {
     "data": {
      "text/html": [
       "<div>\n",
       "<style scoped>\n",
       "    .dataframe tbody tr th:only-of-type {\n",
       "        vertical-align: middle;\n",
       "    }\n",
       "\n",
       "    .dataframe tbody tr th {\n",
       "        vertical-align: top;\n",
       "    }\n",
       "\n",
       "    .dataframe thead th {\n",
       "        text-align: right;\n",
       "    }\n",
       "</style>\n",
       "<table border=\"1\" class=\"dataframe\">\n",
       "  <thead>\n",
       "    <tr style=\"text-align: right;\">\n",
       "      <th></th>\n",
       "      <th>Study Number</th>\n",
       "      <th>Sample ID</th>\n",
       "      <th>Product Type</th>\n",
       "      <th>Base Ingredient</th>\n",
       "      <th>Process Type</th>\n",
       "      <th>Sample Age (Weeks)</th>\n",
       "      <th>Difference From Fresh</th>\n",
       "      <th>Storage Conditions</th>\n",
       "      <th>Packaging Stabilizer Added</th>\n",
       "      <th>Transparent Window in Package</th>\n",
       "      <th>Processing Agent Stability Index</th>\n",
       "      <th>Preservative Added</th>\n",
       "      <th>Moisture (%)</th>\n",
       "      <th>Residual Oxygen (%)</th>\n",
       "      <th>Hexanal (ppm)</th>\n",
       "    </tr>\n",
       "  </thead>\n",
       "  <tbody>\n",
       "    <tr>\n",
       "      <th>0</th>\n",
       "      <td>1310186</td>\n",
       "      <td>1310186-1</td>\n",
       "      <td>D</td>\n",
       "      <td>NaN</td>\n",
       "      <td>C</td>\n",
       "      <td>0.0</td>\n",
       "      <td>0.0</td>\n",
       "      <td>NaN</td>\n",
       "      <td>NaN</td>\n",
       "      <td>NaN</td>\n",
       "      <td>16.2</td>\n",
       "      <td>NaN</td>\n",
       "      <td>NaN</td>\n",
       "      <td>NaN</td>\n",
       "      <td>NaN</td>\n",
       "    </tr>\n",
       "    <tr>\n",
       "      <th>1</th>\n",
       "      <td>1310186</td>\n",
       "      <td>1310186-1</td>\n",
       "      <td>D</td>\n",
       "      <td>NaN</td>\n",
       "      <td>C</td>\n",
       "      <td>10.0</td>\n",
       "      <td>0.0</td>\n",
       "      <td>NaN</td>\n",
       "      <td>NaN</td>\n",
       "      <td>NaN</td>\n",
       "      <td>16.2</td>\n",
       "      <td>NaN</td>\n",
       "      <td>1.56</td>\n",
       "      <td>2.87</td>\n",
       "      <td>0.10</td>\n",
       "    </tr>\n",
       "    <tr>\n",
       "      <th>2</th>\n",
       "      <td>1310186</td>\n",
       "      <td>1310186-1</td>\n",
       "      <td>D</td>\n",
       "      <td>NaN</td>\n",
       "      <td>C</td>\n",
       "      <td>14.0</td>\n",
       "      <td>0.0</td>\n",
       "      <td>NaN</td>\n",
       "      <td>NaN</td>\n",
       "      <td>NaN</td>\n",
       "      <td>16.2</td>\n",
       "      <td>NaN</td>\n",
       "      <td>1.64</td>\n",
       "      <td>2.95</td>\n",
       "      <td>0.10</td>\n",
       "    </tr>\n",
       "    <tr>\n",
       "      <th>3</th>\n",
       "      <td>1310186</td>\n",
       "      <td>1310186-1</td>\n",
       "      <td>D</td>\n",
       "      <td>NaN</td>\n",
       "      <td>C</td>\n",
       "      <td>16.0</td>\n",
       "      <td>3.3</td>\n",
       "      <td>NaN</td>\n",
       "      <td>NaN</td>\n",
       "      <td>NaN</td>\n",
       "      <td>16.0</td>\n",
       "      <td>NaN</td>\n",
       "      <td>1.60</td>\n",
       "      <td>7.13</td>\n",
       "      <td>0.09</td>\n",
       "    </tr>\n",
       "    <tr>\n",
       "      <th>4</th>\n",
       "      <td>1310186</td>\n",
       "      <td>1310186-1</td>\n",
       "      <td>D</td>\n",
       "      <td>NaN</td>\n",
       "      <td>C</td>\n",
       "      <td>18.0</td>\n",
       "      <td>2.7</td>\n",
       "      <td>NaN</td>\n",
       "      <td>NaN</td>\n",
       "      <td>NaN</td>\n",
       "      <td>16.0</td>\n",
       "      <td>NaN</td>\n",
       "      <td>1.70</td>\n",
       "      <td>12.73</td>\n",
       "      <td>0.47</td>\n",
       "    </tr>\n",
       "  </tbody>\n",
       "</table>\n",
       "</div>"
      ],
      "text/plain": [
       "   Study Number  Sample ID Product Type Base Ingredient Process Type  \\\n",
       "0       1310186  1310186-1            D             NaN            C   \n",
       "1       1310186  1310186-1            D             NaN            C   \n",
       "2       1310186  1310186-1            D             NaN            C   \n",
       "3       1310186  1310186-1            D             NaN            C   \n",
       "4       1310186  1310186-1            D             NaN            C   \n",
       "\n",
       "   Sample Age (Weeks)  Difference From Fresh Storage Conditions  \\\n",
       "0                 0.0                    0.0                NaN   \n",
       "1                10.0                    0.0                NaN   \n",
       "2                14.0                    0.0                NaN   \n",
       "3                16.0                    3.3                NaN   \n",
       "4                18.0                    2.7                NaN   \n",
       "\n",
       "  Packaging Stabilizer Added Transparent Window in Package  \\\n",
       "0                        NaN                           NaN   \n",
       "1                        NaN                           NaN   \n",
       "2                        NaN                           NaN   \n",
       "3                        NaN                           NaN   \n",
       "4                        NaN                           NaN   \n",
       "\n",
       "   Processing Agent Stability Index Preservative Added  Moisture (%)  \\\n",
       "0                              16.2                NaN           NaN   \n",
       "1                              16.2                NaN          1.56   \n",
       "2                              16.2                NaN          1.64   \n",
       "3                              16.0                NaN          1.60   \n",
       "4                              16.0                NaN          1.70   \n",
       "\n",
       "   Residual Oxygen (%)  Hexanal (ppm)  \n",
       "0                  NaN            NaN  \n",
       "1                 2.87           0.10  \n",
       "2                 2.95           0.10  \n",
       "3                 7.13           0.09  \n",
       "4                12.73           0.47  "
      ]
     },
     "execution_count": 547,
     "metadata": {},
     "output_type": "execute_result"
    }
   ],
   "source": [
    "df.head()"
   ]
  },
  {
   "cell_type": "code",
   "execution_count": 548,
   "metadata": {},
   "outputs": [
    {
     "name": "stdout",
     "output_type": "stream",
     "text": [
      "Number of rows: 749\n",
      "Number of columns: 15\n"
     ]
    }
   ],
   "source": [
    "#The number of rows and columns of train data\n",
    "print('Number of rows:',df.shape[0]) \n",
    "print('Number of columns:',df.shape[1])"
   ]
  },
  {
   "cell_type": "code",
   "execution_count": 549,
   "metadata": {
    "scrolled": true
   },
   "outputs": [
    {
     "name": "stdout",
     "output_type": "stream",
     "text": [
      "<class 'pandas.core.frame.DataFrame'>\n",
      "RangeIndex: 749 entries, 0 to 748\n",
      "Data columns (total 15 columns):\n",
      "Study Number                        749 non-null int64\n",
      "Sample ID                           749 non-null object\n",
      "Product Type                        749 non-null object\n",
      "Base Ingredient                     640 non-null object\n",
      "Process Type                        749 non-null object\n",
      "Sample Age (Weeks)                  749 non-null float64\n",
      "Difference From Fresh               749 non-null float64\n",
      "Storage Conditions                  455 non-null object\n",
      "Packaging Stabilizer Added          467 non-null object\n",
      "Transparent Window in Package       102 non-null object\n",
      "Processing Agent Stability Index    749 non-null float64\n",
      "Preservative Added                  269 non-null object\n",
      "Moisture (%)                        513 non-null float64\n",
      "Residual Oxygen (%)                 420 non-null float64\n",
      "Hexanal (ppm)                       289 non-null float64\n",
      "dtypes: float64(6), int64(1), object(8)\n",
      "memory usage: 87.9+ KB\n"
     ]
    }
   ],
   "source": [
    "#df.get_dtype_counts()\n",
    "#df.describe()\n",
    "df.info()"
   ]
  },
  {
   "cell_type": "markdown",
   "metadata": {},
   "source": [
    "## Data Processing"
   ]
  },
  {
   "cell_type": "markdown",
   "metadata": {},
   "source": [
    "#### Missing Values"
   ]
  },
  {
   "cell_type": "code",
   "execution_count": 550,
   "metadata": {},
   "outputs": [
    {
     "data": {
      "text/plain": [
       "<matplotlib.axes._subplots.AxesSubplot at 0x1a3ed3b7f0>"
      ]
     },
     "execution_count": 550,
     "metadata": {},
     "output_type": "execute_result"
    },
    {
     "data": {
      "image/png": "[encoded data removed]",
      "text/plain": [
       "<Figure size 432x288 with 1 Axes>"
      ]
     },
     "metadata": {},
     "output_type": "display_data"
    }
   ],
   "source": [
    "sns.heatmap(df.isnull(),cbar=False)"
   ]
  },
  {
   "cell_type": "markdown",
   "metadata": {},
   "source": [
    "We can see there are lots of missing values for 'Transparent Window for Package', 'Preservative Added', 'Hexanal', etc. For the same product type, snackes usually are packed in the same condition, so we can fill our missing value with the most common situation in each product type. For some product types totally missing whole value, then we fill it with average value."
   ]
  },
  {
   "cell_type": "code",
   "execution_count": 551,
   "metadata": {},
   "outputs": [],
   "source": [
    "#For numerical data\n",
    "\n",
    "miss_numeric = ['Moisture (%)', 'Residual Oxygen (%)', 'Hexanal (ppm)']\n",
    "for i in miss_numeric:\n",
    "    df[i] = df.groupby('Product Type')[i].transform(lambda x: x.fillna(x.mean()))\n",
    "\n",
    "for i in miss_numeric:\n",
    "    df[i] = df[i].fillna(df[i].mean())"
   ]
  },
  {
   "cell_type": "code",
   "execution_count": 552,
   "metadata": {},
   "outputs": [
    {
     "data": {
      "text/html": [
       "<div>\n",
       "<style scoped>\n",
       "    .dataframe tbody tr th:only-of-type {\n",
       "        vertical-align: middle;\n",
       "    }\n",
       "\n",
       "    .dataframe tbody tr th {\n",
       "        vertical-align: top;\n",
       "    }\n",
       "\n",
       "    .dataframe thead th {\n",
       "        text-align: right;\n",
       "    }\n",
       "</style>\n",
       "<table border=\"1\" class=\"dataframe\">\n",
       "  <thead>\n",
       "    <tr style=\"text-align: right;\">\n",
       "      <th></th>\n",
       "      <th>Study Number</th>\n",
       "      <th>Sample Age (Weeks)</th>\n",
       "      <th>Difference From Fresh</th>\n",
       "      <th>Processing Agent Stability Index</th>\n",
       "      <th>Moisture (%)</th>\n",
       "      <th>Residual Oxygen (%)</th>\n",
       "      <th>Hexanal (ppm)</th>\n",
       "    </tr>\n",
       "    <tr>\n",
       "      <th>Product Type</th>\n",
       "      <th></th>\n",
       "      <th></th>\n",
       "      <th></th>\n",
       "      <th></th>\n",
       "      <th></th>\n",
       "      <th></th>\n",
       "      <th></th>\n",
       "    </tr>\n",
       "  </thead>\n",
       "  <tbody>\n",
       "    <tr>\n",
       "      <th>A</th>\n",
       "      <td>1.599976e+06</td>\n",
       "      <td>23.197183</td>\n",
       "      <td>8.970423</td>\n",
       "      <td>16.000000</td>\n",
       "      <td>1.837500</td>\n",
       "      <td>20.582500</td>\n",
       "      <td>0.682754</td>\n",
       "    </tr>\n",
       "    <tr>\n",
       "      <th>B</th>\n",
       "      <td>1.530594e+06</td>\n",
       "      <td>16.785714</td>\n",
       "      <td>8.635714</td>\n",
       "      <td>14.750000</td>\n",
       "      <td>2.650857</td>\n",
       "      <td>13.344640</td>\n",
       "      <td>0.652222</td>\n",
       "    </tr>\n",
       "    <tr>\n",
       "      <th>C</th>\n",
       "      <td>1.515142e+06</td>\n",
       "      <td>15.166667</td>\n",
       "      <td>12.041667</td>\n",
       "      <td>16.112500</td>\n",
       "      <td>2.147667</td>\n",
       "      <td>20.730000</td>\n",
       "      <td>1.000000</td>\n",
       "    </tr>\n",
       "    <tr>\n",
       "      <th>D</th>\n",
       "      <td>1.493279e+06</td>\n",
       "      <td>15.923077</td>\n",
       "      <td>3.384615</td>\n",
       "      <td>15.734615</td>\n",
       "      <td>8.260588</td>\n",
       "      <td>13.067273</td>\n",
       "      <td>0.447000</td>\n",
       "    </tr>\n",
       "    <tr>\n",
       "      <th>E</th>\n",
       "      <td>1.530732e+06</td>\n",
       "      <td>11.951613</td>\n",
       "      <td>12.131855</td>\n",
       "      <td>14.249597</td>\n",
       "      <td>1.891237</td>\n",
       "      <td>11.672043</td>\n",
       "      <td>0.631375</td>\n",
       "    </tr>\n",
       "    <tr>\n",
       "      <th>F</th>\n",
       "      <td>1.536929e+06</td>\n",
       "      <td>12.425287</td>\n",
       "      <td>5.881609</td>\n",
       "      <td>15.645977</td>\n",
       "      <td>2.172000</td>\n",
       "      <td>12.480185</td>\n",
       "      <td>0.568214</td>\n",
       "    </tr>\n",
       "    <tr>\n",
       "      <th>G</th>\n",
       "      <td>1.492614e+06</td>\n",
       "      <td>11.850000</td>\n",
       "      <td>16.665000</td>\n",
       "      <td>16.300000</td>\n",
       "      <td>1.192500</td>\n",
       "      <td>14.998421</td>\n",
       "      <td>0.682754</td>\n",
       "    </tr>\n",
       "    <tr>\n",
       "      <th>H</th>\n",
       "      <td>1.502935e+06</td>\n",
       "      <td>17.932099</td>\n",
       "      <td>12.081481</td>\n",
       "      <td>15.748148</td>\n",
       "      <td>1.948879</td>\n",
       "      <td>10.645172</td>\n",
       "      <td>0.777313</td>\n",
       "    </tr>\n",
       "    <tr>\n",
       "      <th>I</th>\n",
       "      <td>1.586147e+06</td>\n",
       "      <td>14.545455</td>\n",
       "      <td>30.390909</td>\n",
       "      <td>16.000000</td>\n",
       "      <td>4.657500</td>\n",
       "      <td>13.344640</td>\n",
       "      <td>0.682754</td>\n",
       "    </tr>\n",
       "  </tbody>\n",
       "</table>\n",
       "</div>"
      ],
      "text/plain": [
       "              Study Number  Sample Age (Weeks)  Difference From Fresh  \\\n",
       "Product Type                                                            \n",
       "A             1.599976e+06           23.197183               8.970423   \n",
       "B             1.530594e+06           16.785714               8.635714   \n",
       "C             1.515142e+06           15.166667              12.041667   \n",
       "D             1.493279e+06           15.923077               3.384615   \n",
       "E             1.530732e+06           11.951613              12.131855   \n",
       "F             1.536929e+06           12.425287               5.881609   \n",
       "G             1.492614e+06           11.850000              16.665000   \n",
       "H             1.502935e+06           17.932099              12.081481   \n",
       "I             1.586147e+06           14.545455              30.390909   \n",
       "\n",
       "              Processing Agent Stability Index  Moisture (%)  \\\n",
       "Product Type                                                   \n",
       "A                                    16.000000      1.837500   \n",
       "B                                    14.750000      2.650857   \n",
       "C                                    16.112500      2.147667   \n",
       "D                                    15.734615      8.260588   \n",
       "E                                    14.249597      1.891237   \n",
       "F                                    15.645977      2.172000   \n",
       "G                                    16.300000      1.192500   \n",
       "H                                    15.748148      1.948879   \n",
       "I                                    16.000000      4.657500   \n",
       "\n",
       "              Residual Oxygen (%)  Hexanal (ppm)  \n",
       "Product Type                                      \n",
       "A                       20.582500       0.682754  \n",
       "B                       13.344640       0.652222  \n",
       "C                       20.730000       1.000000  \n",
       "D                       13.067273       0.447000  \n",
       "E                       11.672043       0.631375  \n",
       "F                       12.480185       0.568214  \n",
       "G                       14.998421       0.682754  \n",
       "H                       10.645172       0.777313  \n",
       "I                       13.344640       0.682754  "
      ]
     },
     "execution_count": 552,
     "metadata": {},
     "output_type": "execute_result"
    },
    {
     "data": {
      "image/png": "[encoded data removed]",
      "text/plain": [
       "<Figure size 432x288 with 1 Axes>"
      ]
     },
     "metadata": {},
     "output_type": "display_data"
    }
   ],
   "source": [
    "#check\n",
    "sns.heatmap(df.isnull(),cbar=False)\n",
    "df_numeric = df.groupby('Product Type')\n",
    "df_numeric.mean()"
   ]
  },
  {
   "cell_type": "code",
   "execution_count": 553,
   "metadata": {},
   "outputs": [],
   "source": [
    "#For categorical data\n",
    "miss_category = ['Base Ingredient', 'Storage Conditions', 'Packaging Stabilizer Added','Transparent Window in Package', 'Preservative Added']\n",
    "for i in miss_category:\n",
    "    df[i] = df.groupby('Product Type')[i].transform(lambda x: x.fillna(x.mode()))\n",
    "for i in miss_category:\n",
    "    df[i] = df[i].fillna(df[i].mode()[0])\n"
   ]
  },
  {
   "cell_type": "code",
   "execution_count": 554,
   "metadata": {},
   "outputs": [
    {
     "data": {
      "text/plain": [
       "<matplotlib.axes._subplots.AxesSubplot at 0x1a3f0e07f0>"
      ]
     },
     "execution_count": 554,
     "metadata": {},
     "output_type": "execute_result"
    },
    {
     "data": {
      "image/png": "[encoded data removed]",
      "text/plain": [
       "<Figure size 432x288 with 1 Axes>"
      ]
     },
     "metadata": {},
     "output_type": "display_data"
    }
   ],
   "source": [
    "#check\n",
    "sns.heatmap(df.isnull(),cbar=False)"
   ]
  },
  {
   "cell_type": "markdown",
   "metadata": {},
   "source": [
    "#### The response\n",
    "The 'Difference from Fresh'evaluates the aged sample versus a fresh sample. When this value is 20 or greater the aged sample at that time point is considered different enough from fresh that the product has reached its maximum shelf life."
   ]
  },
  {
   "cell_type": "code",
   "execution_count": 555,
   "metadata": {},
   "outputs": [],
   "source": [
    "df['DifferFromFresh'] = 0\n",
    "df.loc[df['Difference From Fresh']>=20,'DifferFromFresh'] = 'Yes'\n",
    "df.loc[df['Difference From Fresh']<20, 'DifferFromFresh'] = 'No'"
   ]
  },
  {
   "cell_type": "code",
   "execution_count": 577,
   "metadata": {},
   "outputs": [
    {
     "data": {
      "text/plain": [
       "<matplotlib.axes._subplots.AxesSubplot at 0x1a415c7d30>"
      ]
     },
     "execution_count": 577,
     "metadata": {},
     "output_type": "execute_result"
    },
    {
     "data": {
      "image/png": "[encoded data removed]",
      "text/plain": [
       "<Figure size 432x288 with 1 Axes>"
      ]
     },
     "metadata": {},
     "output_type": "display_data"
    }
   ],
   "source": [
    "sns.countplot(df['DifferFromFresh'], palette='coolwarm')"
   ]
  },
  {
   "cell_type": "markdown",
   "metadata": {},
   "source": [
    "** From the countplot, we can see the dataset is not balanced. The importance of the few examples of class 'Yes' is raised when we evaluate classification results later. **"
   ]
  },
  {
   "cell_type": "code",
   "execution_count": 623,
   "metadata": {},
   "outputs": [
    {
     "data": {
      "image/png": "[encoded data removed]",
      "text/plain": [
       "<Figure size 720x360 with 1 Axes>"
      ]
     },
     "metadata": {},
     "output_type": "display_data"
    }
   ],
   "source": [
    "sns.lmplot('Sample Age (Weeks)', 'Difference From Fresh',data=df)\n",
    "fig = plt.gcf()\n",
    "fig.set_size_inches(10, 5)\n",
    "plt.show()"
   ]
  },
  {
   "cell_type": "code",
   "execution_count": 622,
   "metadata": {},
   "outputs": [
    {
     "data": {
      "image/png": "[encoded data removed]",
      "text/plain": [
       "<Figure size 720x360 with 1 Axes>"
      ]
     },
     "metadata": {},
     "output_type": "display_data"
    }
   ],
   "source": [
    "sns.lmplot(x='Moisture (%)',y='Residual Oxygen (%)',hue='DifferFromFresh', data=df,palette='coolwarm',fit_reg=False)\n",
    "fig = plt.gcf()\n",
    "fig.set_size_inches(10, 5)\n",
    "plt.show()"
   ]
  },
  {
   "cell_type": "code",
   "execution_count": 578,
   "metadata": {},
   "outputs": [
    {
     "data": {
      "text/plain": [
       "<matplotlib.axes._subplots.AxesSubplot at 0x1a40b8fef0>"
      ]
     },
     "execution_count": 578,
     "metadata": {},
     "output_type": "execute_result"
    },
    {
     "data": {
      "image/png": "[encoded data removed]",
      "text/plain": [
       "<Figure size 864x504 with 1 Axes>"
      ]
     },
     "metadata": {},
     "output_type": "display_data"
    }
   ],
   "source": [
    "plt.figure(figsize=(12,7))\n",
    "sns.boxplot(x='Product Type', y='Sample Age (Weeks)', hue='DifferFromFresh', data=df,palette='coolwarm')"
   ]
  },
  {
   "cell_type": "code",
   "execution_count": 611,
   "metadata": {},
   "outputs": [
    {
     "name": "stderr",
     "output_type": "stream",
     "text": [
      "/Users/liudingning/anaconda3/lib/python3.6/site-packages/matplotlib/figure.py:459: UserWarning: matplotlib is currently using a non-GUI backend, so cannot show the figure\n",
      "  \"matplotlib is currently using a non-GUI backend, \"\n"
     ]
    },
    {
     "data": {
      "image/png": "[encoded data removed]",
      "text/plain": [
       "<Figure size 1008x504 with 4 Axes>"
      ]
     },
     "metadata": {},
     "output_type": "display_data"
    }
   ],
   "source": [
    "fig, ax =plt.subplots(2,2, figsize=(14,7))\n",
    "sns.countplot(x='Process Type',  hue='DifferFromFresh', data=df,palette='coolwarm', ax=ax[0,0])\n",
    "sns.countplot(x='Storage Conditions',  hue='DifferFromFresh', data=df,palette='coolwarm', ax=ax[0,1])\n",
    "sns.countplot(x='Packaging Stabilizer Added',  hue='DifferFromFresh', data=df,palette='coolwarm', ax=ax[1,0])\n",
    "sns.countplot(x='Preservative Added',  hue='DifferFromFresh', data=df,palette='coolwarm', ax=ax[1,1])\n",
    "fig.show()"
   ]
  },
  {
   "cell_type": "markdown",
   "metadata": {},
   "source": [
    "From regression plots and countplots, we hardly can see any pattern for classifying classes of freshness. So we should try different classification algorithm and take every factor into account for precisely classify."
   ]
  },
  {
   "cell_type": "code",
   "execution_count": 529,
   "metadata": {},
   "outputs": [],
   "source": [
    "df.drop('Sample Age (Weeks)',axis=1, inplace=True )"
   ]
  },
  {
   "cell_type": "markdown",
   "metadata": {},
   "source": [
    "We also convert categorical variable into dummy variables."
   ]
  },
  {
   "cell_type": "code",
   "execution_count": 478,
   "metadata": {},
   "outputs": [
    {
     "data": {
      "text/plain": [
       "(749, 25)"
      ]
     },
     "execution_count": 478,
     "metadata": {},
     "output_type": "execute_result"
    }
   ],
   "source": [
    "df.drop(['Sample ID','Difference From Fresh'],axis=1,inplace=True)\n",
    "cat_features = ['Product Type','Base Ingredient','Process Type', 'Storage Conditions', 'Packaging Stabilizer Added','Transparent Window in Package', 'Preservative Added','DifferFromFresh']\n",
    "data = pd.get_dummies(df, columns=cat_features, drop_first=True)\n",
    "data.shape"
   ]
  },
  {
   "cell_type": "code",
   "execution_count": 479,
   "metadata": {},
   "outputs": [
    {
     "name": "stdout",
     "output_type": "stream",
     "text": [
      "<class 'pandas.core.frame.DataFrame'>\n",
      "RangeIndex: 749 entries, 0 to 748\n",
      "Data columns (total 25 columns):\n",
      "Study Number                                        749 non-null int64\n",
      "Processing Agent Stability Index                    749 non-null float64\n",
      "Moisture (%)                                        749 non-null float64\n",
      "Residual Oxygen (%)                                 749 non-null float64\n",
      "Hexanal (ppm)                                       749 non-null float64\n",
      "Product Type_B                                      749 non-null uint8\n",
      "Product Type_C                                      749 non-null uint8\n",
      "Product Type_D                                      749 non-null uint8\n",
      "Product Type_E                                      749 non-null uint8\n",
      "Product Type_F                                      749 non-null uint8\n",
      "Product Type_G                                      749 non-null uint8\n",
      "Product Type_H                                      749 non-null uint8\n",
      "Product Type_I                                      749 non-null uint8\n",
      "Base Ingredient_B                                   749 non-null uint8\n",
      "Base Ingredient_C                                   749 non-null uint8\n",
      "Base Ingredient_D                                   749 non-null uint8\n",
      "Base Ingredient_E                                   749 non-null uint8\n",
      "Base Ingredient_F                                   749 non-null uint8\n",
      "Process Type_B                                      749 non-null uint8\n",
      "Process Type_C                                      749 non-null uint8\n",
      "Storage Conditions_High Temperature and Humidity    749 non-null uint8\n",
      "Storage Conditions_Warm Climate                     749 non-null uint8\n",
      "Packaging Stabilizer Added_Y                        749 non-null uint8\n",
      "Preservative Added_Y                                749 non-null uint8\n",
      "DifferFromFresh_Yes                                 749 non-null uint8\n",
      "dtypes: float64(4), int64(1), uint8(20)\n",
      "memory usage: 44.0 KB\n"
     ]
    }
   ],
   "source": [
    "data.info()"
   ]
  },
  {
   "cell_type": "markdown",
   "metadata": {},
   "source": [
    "## Classification"
   ]
  },
  {
   "cell_type": "markdown",
   "metadata": {},
   "source": [
    "We can try different machine learning methods for supervised classsification problem.(KNN, SVM, Randomforest, Logistic Regression)"
   ]
  },
  {
   "cell_type": "code",
   "execution_count": 480,
   "metadata": {},
   "outputs": [],
   "source": [
    "from sklearn.model_selection import train_test_split"
   ]
  },
  {
   "cell_type": "markdown",
   "metadata": {},
   "source": [
    "**Use train_test_split to split your data into a training set and a testing set.**"
   ]
  },
  {
   "cell_type": "code",
   "execution_count": 481,
   "metadata": {},
   "outputs": [],
   "source": [
    "X = data.drop('DifferFromFresh_Yes',axis=1)\n",
    "y = data['DifferFromFresh_Yes']"
   ]
  },
  {
   "cell_type": "code",
   "execution_count": 482,
   "metadata": {},
   "outputs": [],
   "source": [
    "X_train, X_test, y_train, y_test = train_test_split(X, y, test_size = 0.33, random_state = 42)"
   ]
  },
  {
   "cell_type": "markdown",
   "metadata": {},
   "source": [
    "### 1. Logistic Regression"
   ]
  },
  {
   "cell_type": "code",
   "execution_count": 483,
   "metadata": {},
   "outputs": [],
   "source": [
    "from sklearn.linear_model import LogisticRegression\n",
    "from sklearn.metrics import classification_report, confusion_matrix"
   ]
  },
  {
   "cell_type": "markdown",
   "metadata": {},
   "source": [
    "** Train and fit a logistic regression model on the training set.**"
   ]
  },
  {
   "cell_type": "code",
   "execution_count": 484,
   "metadata": {},
   "outputs": [
    {
     "data": {
      "text/plain": [
       "LogisticRegression(C=1.0, class_weight=None, dual=False, fit_intercept=True,\n",
       "          intercept_scaling=1, max_iter=100, multi_class='ovr', n_jobs=1,\n",
       "          penalty='l2', random_state=None, solver='liblinear', tol=0.0001,\n",
       "          verbose=0, warm_start=False)"
      ]
     },
     "execution_count": 484,
     "metadata": {},
     "output_type": "execute_result"
    }
   ],
   "source": [
    "logreg = LogisticRegression()\n",
    "logreg.fit(X_train, y_train)"
   ]
  },
  {
   "cell_type": "markdown",
   "metadata": {},
   "source": [
    "** Predict values for the testing data, create a classification report for the model. **"
   ]
  },
  {
   "cell_type": "code",
   "execution_count": 485,
   "metadata": {},
   "outputs": [],
   "source": [
    "logreg_pred = logreg.predict(X_test)"
   ]
  },
  {
   "cell_type": "code",
   "execution_count": 486,
   "metadata": {},
   "outputs": [
    {
     "name": "stdout",
     "output_type": "stream",
     "text": [
      "             precision    recall  f1-score   support\n",
      "\n",
      "          0       0.81      1.00      0.90       201\n",
      "          1       0.00      0.00      0.00        47\n",
      "\n",
      "avg / total       0.66      0.81      0.73       248\n",
      "\n"
     ]
    },
    {
     "name": "stderr",
     "output_type": "stream",
     "text": [
      "/Users/liudingning/anaconda3/lib/python3.6/site-packages/sklearn/metrics/classification.py:1135: UndefinedMetricWarning: Precision and F-score are ill-defined and being set to 0.0 in labels with no predicted samples.\n",
      "  'precision', 'predicted', average, warn_for)\n"
     ]
    }
   ],
   "source": [
    "print(classification_report(y_test, logreg_pred))"
   ]
  },
  {
   "cell_type": "code",
   "execution_count": 487,
   "metadata": {},
   "outputs": [
    {
     "name": "stdout",
     "output_type": "stream",
     "text": [
      "[[201   0]\n",
      " [ 47   0]]\n"
     ]
    }
   ],
   "source": [
    "print(confusion_matrix(y_test, logreg_pred))"
   ]
  },
  {
   "cell_type": "markdown",
   "metadata": {},
   "source": [
    "### 2. Random Forest"
   ]
  },
  {
   "cell_type": "markdown",
   "metadata": {},
   "source": [
    "** Training a Decision Tree Model **\n",
    "\n",
    "Let's start by training a single decision tree first."
   ]
  },
  {
   "cell_type": "code",
   "execution_count": 488,
   "metadata": {},
   "outputs": [],
   "source": [
    "from sklearn.tree import DecisionTreeClassifier"
   ]
  },
  {
   "cell_type": "code",
   "execution_count": 489,
   "metadata": {},
   "outputs": [
    {
     "data": {
      "text/plain": [
       "DecisionTreeClassifier(class_weight=None, criterion='gini', max_depth=None,\n",
       "            max_features=None, max_leaf_nodes=None,\n",
       "            min_impurity_decrease=0.0, min_impurity_split=None,\n",
       "            min_samples_leaf=1, min_samples_split=2,\n",
       "            min_weight_fraction_leaf=0.0, presort=False, random_state=None,\n",
       "            splitter='best')"
      ]
     },
     "execution_count": 489,
     "metadata": {},
     "output_type": "execute_result"
    }
   ],
   "source": [
    "dtc = DecisionTreeClassifier()\n",
    "dtc.fit(X_train, y_train)"
   ]
  },
  {
   "cell_type": "markdown",
   "metadata": {},
   "source": [
    "**Create predictions from the test set and create a classification report and a confusion matrix.**"
   ]
  },
  {
   "cell_type": "code",
   "execution_count": 490,
   "metadata": {},
   "outputs": [],
   "source": [
    "dtc_pred = dtc.predict(X_test)"
   ]
  },
  {
   "cell_type": "code",
   "execution_count": 491,
   "metadata": {},
   "outputs": [
    {
     "name": "stdout",
     "output_type": "stream",
     "text": [
      "             precision    recall  f1-score   support\n",
      "\n",
      "          0       0.87      0.90      0.88       201\n",
      "          1       0.49      0.40      0.44        47\n",
      "\n",
      "avg / total       0.79      0.81      0.80       248\n",
      "\n"
     ]
    }
   ],
   "source": [
    "print(classification_report(y_test, dtc_pred))"
   ]
  },
  {
   "cell_type": "code",
   "execution_count": 492,
   "metadata": {},
   "outputs": [
    {
     "name": "stdout",
     "output_type": "stream",
     "text": [
      "[[181  20]\n",
      " [ 28  19]]\n"
     ]
    }
   ],
   "source": [
    "print(confusion_matrix(y_test, dtc_pred))"
   ]
  },
  {
   "cell_type": "markdown",
   "metadata": {},
   "source": [
    "** Training the Random Forest model **\n",
    "\n",
    "Now its time to train our model. Create an instance of the RandomForestClassifier class and fit it to our training data from the previous step."
   ]
  },
  {
   "cell_type": "code",
   "execution_count": 493,
   "metadata": {},
   "outputs": [],
   "source": [
    "from sklearn.ensemble import RandomForestClassifier"
   ]
  },
  {
   "cell_type": "code",
   "execution_count": 494,
   "metadata": {},
   "outputs": [
    {
     "data": {
      "text/plain": [
       "RandomForestClassifier(bootstrap=True, class_weight=None, criterion='gini',\n",
       "            max_depth=None, max_features='auto', max_leaf_nodes=None,\n",
       "            min_impurity_decrease=0.0, min_impurity_split=None,\n",
       "            min_samples_leaf=1, min_samples_split=2,\n",
       "            min_weight_fraction_leaf=0.0, n_estimators=600, n_jobs=1,\n",
       "            oob_score=False, random_state=None, verbose=0,\n",
       "            warm_start=False)"
      ]
     },
     "execution_count": 494,
     "metadata": {},
     "output_type": "execute_result"
    }
   ],
   "source": [
    "rfc = RandomForestClassifier(n_estimators=600)\n",
    "rfc.fit(X_train, y_train)"
   ]
  },
  {
   "cell_type": "markdown",
   "metadata": {},
   "source": [
    "** Predict the class of DifferFromFresh for the X_test data.**"
   ]
  },
  {
   "cell_type": "code",
   "execution_count": 495,
   "metadata": {},
   "outputs": [],
   "source": [
    "pred_rfc = rfc.predict(X_test)"
   ]
  },
  {
   "cell_type": "code",
   "execution_count": 496,
   "metadata": {},
   "outputs": [
    {
     "name": "stdout",
     "output_type": "stream",
     "text": [
      "             precision    recall  f1-score   support\n",
      "\n",
      "          0       0.92      0.87      0.89       213\n",
      "          1       0.40      0.54      0.46        35\n",
      "\n",
      "avg / total       0.85      0.82      0.83       248\n",
      "\n"
     ]
    }
   ],
   "source": [
    "print(classification_report(pred_rfc,y_test))"
   ]
  },
  {
   "cell_type": "code",
   "execution_count": 497,
   "metadata": {},
   "outputs": [
    {
     "name": "stdout",
     "output_type": "stream",
     "text": [
      "[[185  28]\n",
      " [ 16  19]]\n"
     ]
    }
   ],
   "source": [
    "print(confusion_matrix(pred_rfc,y_test))"
   ]
  },
  {
   "cell_type": "markdown",
   "metadata": {},
   "source": [
    "### 3. SVM"
   ]
  },
  {
   "cell_type": "code",
   "execution_count": 498,
   "metadata": {},
   "outputs": [],
   "source": [
    "from sklearn.svm import SVC"
   ]
  },
  {
   "cell_type": "markdown",
   "metadata": {},
   "source": [
    "** Train a Support Vector Machine Classifier  **"
   ]
  },
  {
   "cell_type": "code",
   "execution_count": 499,
   "metadata": {},
   "outputs": [
    {
     "data": {
      "text/plain": [
       "SVC(C=1.0, cache_size=200, class_weight=None, coef0=0.0,\n",
       "  decision_function_shape='ovr', degree=3, gamma='auto', kernel='rbf',\n",
       "  max_iter=-1, probability=False, random_state=None, shrinking=True,\n",
       "  tol=0.001, verbose=False)"
      ]
     },
     "execution_count": 499,
     "metadata": {},
     "output_type": "execute_result"
    }
   ],
   "source": [
    "svm = SVC()\n",
    "svm.fit(X_train, y_train)"
   ]
  },
  {
   "cell_type": "markdown",
   "metadata": {},
   "source": [
    "** Get predictions from the model and create a confusion matrix and a classification report.**"
   ]
  },
  {
   "cell_type": "code",
   "execution_count": 500,
   "metadata": {},
   "outputs": [
    {
     "name": "stdout",
     "output_type": "stream",
     "text": [
      "[[193   8]\n",
      " [ 35  12]]\n",
      "\n",
      "             precision    recall  f1-score   support\n",
      "\n",
      "          0       0.85      0.96      0.90       201\n",
      "          1       0.60      0.26      0.36        47\n",
      "\n",
      "avg / total       0.80      0.83      0.80       248\n",
      "\n"
     ]
    }
   ],
   "source": [
    "svm_pred = svm.predict(X_test)\n",
    "print(confusion_matrix(y_test, svm_pred))\n",
    "print()\n",
    "print(classification_report(y_test, svm_pred))"
   ]
  },
  {
   "cell_type": "markdown",
   "metadata": {},
   "source": [
    "** The model performs ok, but we can use GridSearch then tune the parameters to try to get even better. **"
   ]
  },
  {
   "cell_type": "code",
   "execution_count": 501,
   "metadata": {},
   "outputs": [],
   "source": [
    "from sklearn.model_selection import GridSearchCV"
   ]
  },
  {
   "cell_type": "code",
   "execution_count": 502,
   "metadata": {},
   "outputs": [
    {
     "name": "stdout",
     "output_type": "stream",
     "text": [
      "Fitting 3 folds for each of 16 candidates, totalling 48 fits\n",
      "[CV] C=0.1, gamma=1 ..................................................\n",
      "[CV] ................................... C=0.1, gamma=1, total=   0.0s\n",
      "[CV] C=0.1, gamma=1 ..................................................\n",
      "[CV] ................................... C=0.1, gamma=1, total=   0.0s\n",
      "[CV] C=0.1, gamma=1 ..................................................\n",
      "[CV] ................................... C=0.1, gamma=1, total=   0.0s\n",
      "[CV] C=0.1, gamma=0.1 ................................................\n",
      "[CV] ................................. C=0.1, gamma=0.1, total=   0.0s\n",
      "[CV] C=0.1, gamma=0.1 ................................................\n",
      "[CV] ................................. C=0.1, gamma=0.1, total=   0.0s\n",
      "[CV] C=0.1, gamma=0.1 ................................................\n",
      "[CV] ................................. C=0.1, gamma=0.1, total=   0.0s\n",
      "[CV] C=0.1, gamma=0.01 ...............................................\n",
      "[CV] ................................ C=0.1, gamma=0.01, total=   0.0s\n",
      "[CV] C=0.1, gamma=0.01 ...............................................\n",
      "[CV] ................................ C=0.1, gamma=0.01, total=   0.0s\n",
      "[CV] C=0.1, gamma=0.01 ...............................................\n",
      "[CV] ................................ C=0.1, gamma=0.01, total=   0.0s\n",
      "[CV] C=0.1, gamma=0.001 ..............................................\n",
      "[CV] ............................... C=0.1, gamma=0.001, total=   0.0s\n",
      "[CV] C=0.1, gamma=0.001 ..............................................\n",
      "[CV] ............................... C=0.1, gamma=0.001, total=   0.0s\n",
      "[CV] C=0.1, gamma=0.001 ..............................................\n",
      "[CV] ............................... C=0.1, gamma=0.001, total=   0.0s\n",
      "[CV] C=1, gamma=1 ....................................................\n",
      "[CV] ..................................... C=1, gamma=1, total=   0.0s\n",
      "[CV] C=1, gamma=1 ....................................................\n",
      "[CV] ..................................... C=1, gamma=1, total=   0.0s\n",
      "[CV] C=1, gamma=1 ....................................................\n"
     ]
    },
    {
     "name": "stderr",
     "output_type": "stream",
     "text": [
      "[Parallel(n_jobs=1)]: Done   1 out of   1 | elapsed:    0.0s remaining:    0.0s\n"
     ]
    },
    {
     "name": "stdout",
     "output_type": "stream",
     "text": [
      "[CV] ..................................... C=1, gamma=1, total=   0.0s\n",
      "[CV] C=1, gamma=0.1 ..................................................\n",
      "[CV] ................................... C=1, gamma=0.1, total=   0.0s\n",
      "[CV] C=1, gamma=0.1 ..................................................\n",
      "[CV] ................................... C=1, gamma=0.1, total=   0.0s\n",
      "[CV] C=1, gamma=0.1 ..................................................\n",
      "[CV] ................................... C=1, gamma=0.1, total=   0.0s\n",
      "[CV] C=1, gamma=0.01 .................................................\n",
      "[CV] .................................. C=1, gamma=0.01, total=   0.0s\n",
      "[CV] C=1, gamma=0.01 .................................................\n",
      "[CV] .................................. C=1, gamma=0.01, total=   0.0s\n",
      "[CV] C=1, gamma=0.01 .................................................\n",
      "[CV] .................................. C=1, gamma=0.01, total=   0.0s\n",
      "[CV] C=1, gamma=0.001 ................................................\n",
      "[CV] ................................. C=1, gamma=0.001, total=   0.0s\n",
      "[CV] C=1, gamma=0.001 ................................................\n",
      "[CV] ................................. C=1, gamma=0.001, total=   0.0s\n",
      "[CV] C=1, gamma=0.001 ................................................\n",
      "[CV] ................................. C=1, gamma=0.001, total=   0.0s\n",
      "[CV] C=10, gamma=1 ...................................................\n",
      "[CV] .................................... C=10, gamma=1, total=   0.0s\n",
      "[CV] C=10, gamma=1 ...................................................\n",
      "[CV] .................................... C=10, gamma=1, total=   0.0s\n",
      "[CV] C=10, gamma=1 ...................................................\n",
      "[CV] .................................... C=10, gamma=1, total=   0.0s\n",
      "[CV] C=10, gamma=0.1 .................................................\n",
      "[CV] .................................. C=10, gamma=0.1, total=   0.0s\n",
      "[CV] C=10, gamma=0.1 .................................................\n",
      "[CV] .................................. C=10, gamma=0.1, total=   0.0s\n",
      "[CV] C=10, gamma=0.1 .................................................\n",
      "[CV] .................................. C=10, gamma=0.1, total=   0.0s\n",
      "[CV] C=10, gamma=0.01 ................................................\n",
      "[CV] ................................. C=10, gamma=0.01, total=   0.0s\n",
      "[CV] C=10, gamma=0.01 ................................................\n",
      "[CV] ................................. C=10, gamma=0.01, total=   0.0s\n",
      "[CV] C=10, gamma=0.01 ................................................\n",
      "[CV] ................................. C=10, gamma=0.01, total=   0.0s\n",
      "[CV] C=10, gamma=0.001 ...............................................\n",
      "[CV] ................................ C=10, gamma=0.001, total=   0.0s\n",
      "[CV] C=10, gamma=0.001 ...............................................\n",
      "[CV] ................................ C=10, gamma=0.001, total=   0.0s\n",
      "[CV] C=10, gamma=0.001 ...............................................\n",
      "[CV] ................................ C=10, gamma=0.001, total=   0.0s\n",
      "[CV] C=100, gamma=1 ..................................................\n",
      "[CV] ................................... C=100, gamma=1, total=   0.0s\n",
      "[CV] C=100, gamma=1 ..................................................\n",
      "[CV] ................................... C=100, gamma=1, total=   0.0s\n",
      "[CV] C=100, gamma=1 ..................................................\n",
      "[CV] ................................... C=100, gamma=1, total=   0.0s\n",
      "[CV] C=100, gamma=0.1 ................................................\n",
      "[CV] ................................. C=100, gamma=0.1, total=   0.0s\n",
      "[CV] C=100, gamma=0.1 ................................................\n",
      "[CV] ................................. C=100, gamma=0.1, total=   0.0s\n",
      "[CV] C=100, gamma=0.1 ................................................\n",
      "[CV] ................................. C=100, gamma=0.1, total=   0.0s\n",
      "[CV] C=100, gamma=0.01 ...............................................\n",
      "[CV] ................................ C=100, gamma=0.01, total=   0.0s\n",
      "[CV] C=100, gamma=0.01 ...............................................\n",
      "[CV] ................................ C=100, gamma=0.01, total=   0.0s\n",
      "[CV] C=100, gamma=0.01 ...............................................\n",
      "[CV] ................................ C=100, gamma=0.01, total=   0.0s\n",
      "[CV] C=100, gamma=0.001 ..............................................\n",
      "[CV] ............................... C=100, gamma=0.001, total=   0.0s\n",
      "[CV] C=100, gamma=0.001 ..............................................\n",
      "[CV] ............................... C=100, gamma=0.001, total=   0.0s\n",
      "[CV] C=100, gamma=0.001 ..............................................\n",
      "[CV] ............................... C=100, gamma=0.001, total=   0.0s\n"
     ]
    },
    {
     "name": "stderr",
     "output_type": "stream",
     "text": [
      "[Parallel(n_jobs=1)]: Done  48 out of  48 | elapsed:    0.6s finished\n"
     ]
    },
    {
     "data": {
      "text/plain": [
       "GridSearchCV(cv=None, error_score='raise',\n",
       "       estimator=SVC(C=1.0, cache_size=200, class_weight=None, coef0=0.0,\n",
       "  decision_function_shape='ovr', degree=3, gamma='auto', kernel='rbf',\n",
       "  max_iter=-1, probability=False, random_state=None, shrinking=True,\n",
       "  tol=0.001, verbose=False),\n",
       "       fit_params=None, iid=True, n_jobs=1,\n",
       "       param_grid={'C': [0.1, 1, 10, 100], 'gamma': [1, 0.1, 0.01, 0.001]},\n",
       "       pre_dispatch='2*n_jobs', refit=True, return_train_score='warn',\n",
       "       scoring=None, verbose=2)"
      ]
     },
     "execution_count": 502,
     "metadata": {},
     "output_type": "execute_result"
    }
   ],
   "source": [
    "param_grid = {'C': [0.1,1, 10, 100], 'gamma': [1,0.1,0.01,0.001]}\n",
    "grid = GridSearchCV(SVC(), param_grid, refit=True, verbose=2)\n",
    "grid.fit(X_train, y_train)"
   ]
  },
  {
   "cell_type": "code",
   "execution_count": 503,
   "metadata": {},
   "outputs": [
    {
     "data": {
      "text/plain": [
       "{'C': 1, 'gamma': 0.1}"
      ]
     },
     "execution_count": 503,
     "metadata": {},
     "output_type": "execute_result"
    }
   ],
   "source": [
    "grid_pred = grid.predict(X_test)\n",
    "grid.best_params_"
   ]
  },
  {
   "cell_type": "code",
   "execution_count": 504,
   "metadata": {},
   "outputs": [
    {
     "name": "stdout",
     "output_type": "stream",
     "text": [
      "[[194   7]\n",
      " [ 36  11]]\n",
      "\n",
      "             precision    recall  f1-score   support\n",
      "\n",
      "          0       0.84      0.97      0.90       201\n",
      "          1       0.61      0.23      0.34        47\n",
      "\n",
      "avg / total       0.80      0.83      0.79       248\n",
      "\n"
     ]
    }
   ],
   "source": [
    "print(confusion_matrix(y_test, grid_pred))\n",
    "print()\n",
    "print(classification_report(y_test, grid_pred))"
   ]
  },
  {
   "cell_type": "markdown",
   "metadata": {},
   "source": [
    "### 4. KNN\n",
    "** Standardize the variables **"
   ]
  },
  {
   "cell_type": "code",
   "execution_count": 505,
   "metadata": {},
   "outputs": [
    {
     "data": {
      "text/html": [
       "<div>\n",
       "<style scoped>\n",
       "    .dataframe tbody tr th:only-of-type {\n",
       "        vertical-align: middle;\n",
       "    }\n",
       "\n",
       "    .dataframe tbody tr th {\n",
       "        vertical-align: top;\n",
       "    }\n",
       "\n",
       "    .dataframe thead th {\n",
       "        text-align: right;\n",
       "    }\n",
       "</style>\n",
       "<table border=\"1\" class=\"dataframe\">\n",
       "  <thead>\n",
       "    <tr style=\"text-align: right;\">\n",
       "      <th></th>\n",
       "      <th>Study Number</th>\n",
       "      <th>Processing Agent Stability Index</th>\n",
       "      <th>Moisture (%)</th>\n",
       "      <th>Residual Oxygen (%)</th>\n",
       "      <th>Hexanal (ppm)</th>\n",
       "      <th>Product Type_B</th>\n",
       "      <th>Product Type_C</th>\n",
       "      <th>Product Type_D</th>\n",
       "      <th>Product Type_E</th>\n",
       "      <th>Product Type_F</th>\n",
       "      <th>...</th>\n",
       "      <th>Base Ingredient_C</th>\n",
       "      <th>Base Ingredient_D</th>\n",
       "      <th>Base Ingredient_E</th>\n",
       "      <th>Base Ingredient_F</th>\n",
       "      <th>Process Type_B</th>\n",
       "      <th>Process Type_C</th>\n",
       "      <th>Storage Conditions_High Temperature and Humidity</th>\n",
       "      <th>Storage Conditions_Warm Climate</th>\n",
       "      <th>Packaging Stabilizer Added_Y</th>\n",
       "      <th>Preservative Added_Y</th>\n",
       "    </tr>\n",
       "  </thead>\n",
       "  <tbody>\n",
       "    <tr>\n",
       "      <th>0</th>\n",
       "      <td>-1.805619</td>\n",
       "      <td>0.307955</td>\n",
       "      <td>3.139548</td>\n",
       "      <td>-0.046393</td>\n",
       "      <td>-0.904064</td>\n",
       "      <td>-0.284268</td>\n",
       "      <td>-0.261675</td>\n",
       "      <td>5.2733</td>\n",
       "      <td>-0.703569</td>\n",
       "      <td>-0.362519</td>\n",
       "      <td>...</td>\n",
       "      <td>-0.703569</td>\n",
       "      <td>-0.353022</td>\n",
       "      <td>-0.122087</td>\n",
       "      <td>-0.138013</td>\n",
       "      <td>-0.261675</td>\n",
       "      <td>0.634525</td>\n",
       "      <td>-0.318544</td>\n",
       "      <td>0.500417</td>\n",
       "      <td>1.502172</td>\n",
       "      <td>0.449719</td>\n",
       "    </tr>\n",
       "    <tr>\n",
       "      <th>1</th>\n",
       "      <td>-1.805619</td>\n",
       "      <td>0.307955</td>\n",
       "      <td>-0.348145</td>\n",
       "      <td>-1.752003</td>\n",
       "      <td>-2.234730</td>\n",
       "      <td>-0.284268</td>\n",
       "      <td>-0.261675</td>\n",
       "      <td>5.2733</td>\n",
       "      <td>-0.703569</td>\n",
       "      <td>-0.362519</td>\n",
       "      <td>...</td>\n",
       "      <td>-0.703569</td>\n",
       "      <td>-0.353022</td>\n",
       "      <td>-0.122087</td>\n",
       "      <td>-0.138013</td>\n",
       "      <td>-0.261675</td>\n",
       "      <td>0.634525</td>\n",
       "      <td>-0.318544</td>\n",
       "      <td>0.500417</td>\n",
       "      <td>-0.665703</td>\n",
       "      <td>0.449719</td>\n",
       "    </tr>\n",
       "    <tr>\n",
       "      <th>2</th>\n",
       "      <td>-1.805619</td>\n",
       "      <td>0.307955</td>\n",
       "      <td>-0.306504</td>\n",
       "      <td>-1.738622</td>\n",
       "      <td>-2.234730</td>\n",
       "      <td>-0.284268</td>\n",
       "      <td>-0.261675</td>\n",
       "      <td>5.2733</td>\n",
       "      <td>-0.703569</td>\n",
       "      <td>-0.362519</td>\n",
       "      <td>...</td>\n",
       "      <td>-0.703569</td>\n",
       "      <td>-0.353022</td>\n",
       "      <td>-0.122087</td>\n",
       "      <td>-0.138013</td>\n",
       "      <td>-0.261675</td>\n",
       "      <td>0.634525</td>\n",
       "      <td>-0.318544</td>\n",
       "      <td>0.500417</td>\n",
       "      <td>-0.665703</td>\n",
       "      <td>0.449719</td>\n",
       "    </tr>\n",
       "    <tr>\n",
       "      <th>3</th>\n",
       "      <td>-1.805619</td>\n",
       "      <td>0.243435</td>\n",
       "      <td>-0.327325</td>\n",
       "      <td>-1.039469</td>\n",
       "      <td>-2.273078</td>\n",
       "      <td>-0.284268</td>\n",
       "      <td>-0.261675</td>\n",
       "      <td>5.2733</td>\n",
       "      <td>-0.703569</td>\n",
       "      <td>-0.362519</td>\n",
       "      <td>...</td>\n",
       "      <td>-0.703569</td>\n",
       "      <td>-0.353022</td>\n",
       "      <td>-0.122087</td>\n",
       "      <td>-0.138013</td>\n",
       "      <td>-0.261675</td>\n",
       "      <td>0.634525</td>\n",
       "      <td>-0.318544</td>\n",
       "      <td>0.500417</td>\n",
       "      <td>-0.665703</td>\n",
       "      <td>0.449719</td>\n",
       "    </tr>\n",
       "    <tr>\n",
       "      <th>4</th>\n",
       "      <td>-1.805619</td>\n",
       "      <td>0.243435</td>\n",
       "      <td>-0.275274</td>\n",
       "      <td>-0.102805</td>\n",
       "      <td>-0.815864</td>\n",
       "      <td>-0.284268</td>\n",
       "      <td>-0.261675</td>\n",
       "      <td>5.2733</td>\n",
       "      <td>-0.703569</td>\n",
       "      <td>-0.362519</td>\n",
       "      <td>...</td>\n",
       "      <td>-0.703569</td>\n",
       "      <td>-0.353022</td>\n",
       "      <td>-0.122087</td>\n",
       "      <td>-0.138013</td>\n",
       "      <td>-0.261675</td>\n",
       "      <td>0.634525</td>\n",
       "      <td>-0.318544</td>\n",
       "      <td>0.500417</td>\n",
       "      <td>-0.665703</td>\n",
       "      <td>0.449719</td>\n",
       "    </tr>\n",
       "  </tbody>\n",
       "</table>\n",
       "<p>5 rows × 24 columns</p>\n",
       "</div>"
      ],
      "text/plain": [
       "   Study Number  Processing Agent Stability Index  Moisture (%)  \\\n",
       "0     -1.805619                          0.307955      3.139548   \n",
       "1     -1.805619                          0.307955     -0.348145   \n",
       "2     -1.805619                          0.307955     -0.306504   \n",
       "3     -1.805619                          0.243435     -0.327325   \n",
       "4     -1.805619                          0.243435     -0.275274   \n",
       "\n",
       "   Residual Oxygen (%)  Hexanal (ppm)  Product Type_B  Product Type_C  \\\n",
       "0            -0.046393      -0.904064       -0.284268       -0.261675   \n",
       "1            -1.752003      -2.234730       -0.284268       -0.261675   \n",
       "2            -1.738622      -2.234730       -0.284268       -0.261675   \n",
       "3            -1.039469      -2.273078       -0.284268       -0.261675   \n",
       "4            -0.102805      -0.815864       -0.284268       -0.261675   \n",
       "\n",
       "   Product Type_D  Product Type_E  Product Type_F          ...           \\\n",
       "0          5.2733       -0.703569       -0.362519          ...            \n",
       "1          5.2733       -0.703569       -0.362519          ...            \n",
       "2          5.2733       -0.703569       -0.362519          ...            \n",
       "3          5.2733       -0.703569       -0.362519          ...            \n",
       "4          5.2733       -0.703569       -0.362519          ...            \n",
       "\n",
       "   Base Ingredient_C  Base Ingredient_D  Base Ingredient_E  Base Ingredient_F  \\\n",
       "0          -0.703569          -0.353022          -0.122087          -0.138013   \n",
       "1          -0.703569          -0.353022          -0.122087          -0.138013   \n",
       "2          -0.703569          -0.353022          -0.122087          -0.138013   \n",
       "3          -0.703569          -0.353022          -0.122087          -0.138013   \n",
       "4          -0.703569          -0.353022          -0.122087          -0.138013   \n",
       "\n",
       "   Process Type_B  Process Type_C  \\\n",
       "0       -0.261675        0.634525   \n",
       "1       -0.261675        0.634525   \n",
       "2       -0.261675        0.634525   \n",
       "3       -0.261675        0.634525   \n",
       "4       -0.261675        0.634525   \n",
       "\n",
       "   Storage Conditions_High Temperature and Humidity  \\\n",
       "0                                         -0.318544   \n",
       "1                                         -0.318544   \n",
       "2                                         -0.318544   \n",
       "3                                         -0.318544   \n",
       "4                                         -0.318544   \n",
       "\n",
       "   Storage Conditions_Warm Climate  Packaging Stabilizer Added_Y  \\\n",
       "0                         0.500417                      1.502172   \n",
       "1                         0.500417                     -0.665703   \n",
       "2                         0.500417                     -0.665703   \n",
       "3                         0.500417                     -0.665703   \n",
       "4                         0.500417                     -0.665703   \n",
       "\n",
       "   Preservative Added_Y  \n",
       "0              0.449719  \n",
       "1              0.449719  \n",
       "2              0.449719  \n",
       "3              0.449719  \n",
       "4              0.449719  \n",
       "\n",
       "[5 rows x 24 columns]"
      ]
     },
     "execution_count": 505,
     "metadata": {},
     "output_type": "execute_result"
    }
   ],
   "source": [
    "from sklearn.preprocessing import StandardScaler\n",
    "scaler = StandardScaler()\n",
    "scaler.fit(data.drop('DifferFromFresh_Yes',axis=1))\n",
    "scaled = scaler.transform(data.drop('DifferFromFresh_Yes',axis=1))\n",
    "df_feature = pd.DataFrame(scaled, columns=data.columns[:-1])\n",
    "df_feature.head()"
   ]
  },
  {
   "cell_type": "markdown",
   "metadata": {},
   "source": [
    "**Use train_test_split to split your data into a training set and a testing set.**"
   ]
  },
  {
   "cell_type": "code",
   "execution_count": 506,
   "metadata": {},
   "outputs": [],
   "source": [
    "Xk = df_feature\n",
    "yk = data['DifferFromFresh_Yes']\n",
    "Xk_train, Xk_test, yk_train, yk_test = train_test_split(Xk,yk,test_size=0.30,random_state=42)"
   ]
  },
  {
   "cell_type": "markdown",
   "metadata": {},
   "source": [
    "#### Choosing K value \n",
    "\n",
    "** Create a for loop that trains various KNN models with different k values, then keep track of the error_rate for each of these models with a list.**"
   ]
  },
  {
   "cell_type": "code",
   "execution_count": 507,
   "metadata": {},
   "outputs": [],
   "source": [
    "from sklearn.neighbors import KNeighborsClassifier"
   ]
  },
  {
   "cell_type": "code",
   "execution_count": 508,
   "metadata": {},
   "outputs": [],
   "source": [
    "error_rate = []\n",
    "for i in range(1,40):\n",
    "    knn = KNeighborsClassifier(n_neighbors=i)\n",
    "    knn.fit(Xk_train, yk_train)\n",
    "    knn_pred = knn.predict(Xk_test)\n",
    "    error_rate.append(np.mean(yk_test != knn_pred))"
   ]
  },
  {
   "cell_type": "markdown",
   "metadata": {},
   "source": [
    "**Now create the following plot to visualize error rate.**"
   ]
  },
  {
   "cell_type": "code",
   "execution_count": 509,
   "metadata": {},
   "outputs": [
    {
     "data": {
      "text/plain": [
       "Text(0,0.5,'Error Rate')"
      ]
     },
     "execution_count": 509,
     "metadata": {},
     "output_type": "execute_result"
    },
    {
     "data": {
      "image/png": "[encoded data removed]",
      "text/plain": [
       "<Figure size 864x504 with 1 Axes>"
      ]
     },
     "metadata": {},
     "output_type": "display_data"
    }
   ],
   "source": [
    "plt.figure(figsize=(12,7))\n",
    "plt.plot(range(1,40), error_rate, linestyle='--',color='blue', marker='o',markerfacecolor='red')\n",
    "plt.title('Erro Rate vs. K values')\n",
    "plt.xlabel('K')\n",
    "plt.ylabel('Error Rate')"
   ]
  },
  {
   "cell_type": "markdown",
   "metadata": {},
   "source": [
    "**Retrain my model with the best K value 24 and print classification report and the confusion matrix.**"
   ]
  },
  {
   "cell_type": "code",
   "execution_count": 510,
   "metadata": {},
   "outputs": [
    {
     "name": "stdout",
     "output_type": "stream",
     "text": [
      "With K=24\n",
      "\n",
      "[[182   0]\n",
      " [ 38   5]]\n",
      "\n",
      "             precision    recall  f1-score   support\n",
      "\n",
      "          0       0.83      1.00      0.91       182\n",
      "          1       1.00      0.12      0.21        43\n",
      "\n",
      "avg / total       0.86      0.83      0.77       225\n",
      "\n"
     ]
    }
   ],
   "source": [
    "knn = KNeighborsClassifier(n_neighbors=24)\n",
    "knn.fit(Xk_train, yk_train)\n",
    "knn_pred = knn.predict(Xk_test)\n",
    "print('With K=24')\n",
    "print()\n",
    "print(confusion_matrix(yk_test, knn_pred))\n",
    "print()\n",
    "print(classification_report(yk_test, knn_pred))"
   ]
  },
  {
   "cell_type": "markdown",
   "metadata": {},
   "source": [
    "## Model Evaluation"
   ]
  },
  {
   "cell_type": "markdown",
   "metadata": {},
   "source": [
    "### Accuracy"
   ]
  },
  {
   "cell_type": "code",
   "execution_count": 518,
   "metadata": {},
   "outputs": [
    {
     "name": "stdout",
     "output_type": "stream",
     "text": [
      "The accuracy of Logistics Regression Model :  0.81\n",
      "The accuracy of Random Forest :  0.82\n",
      "The accuracy of SVM (C=10, gamma=0.1) :  0.83\n",
      "The accuracy of KNN:  0.83\n"
     ]
    }
   ],
   "source": [
    "\n",
    "print('The accuracy of Logistics Regression Model : ', round(sum(logreg_pred == y_test)/len(y_test),2))\n",
    "print('The accuracy of Random Forest : ', round(sum(pred_rfc == y_test)/len(y_test),2))\n",
    "print('The accuracy of SVM (C=10, gamma=0.1) : ', round(sum(svm_pred == y_test)/len(y_test),2))\n",
    "print('The accuracy of KNN: ', round(sum(knn_pred == yk_test)/len(yk_test),2))"
   ]
  },
  {
   "cell_type": "markdown",
   "metadata": {},
   "source": [
    "### Classification Report & Confusion Matrix"
   ]
  },
  {
   "cell_type": "markdown",
   "metadata": {},
   "source": [
    "** The precision is the ratio ** $$ \\frac{tp}{tp + fp}$$ \n",
    "The precision is intuitively the ability of the classifier not to label as positive a sample that is negative. \n",
    "\n",
    "\n",
    "** The recall is the ratio ** $$\\frac{tp}{tp + fn}$$ \n",
    "The recall is intuitively the ability of the classifier to find all the positive samples. \n",
    "\n",
    "\n",
    "The F1 score can be interpreted as a weighted average of the precision and recall, where an F1 score reaches its best value at 1 and worst score at 0.\n",
    "\n",
    "** $$F_{1} = \\frac{2*(precision * recall)}{(precision + recall)}$$ **"
   ]
  },
  {
   "cell_type": "code",
   "execution_count": 519,
   "metadata": {},
   "outputs": [
    {
     "name": "stdout",
     "output_type": "stream",
     "text": [
      "The F1 Score of Logistics Regression Model : 0.73\n",
      "The F1 Score of Random Forest : 0.83\n",
      "The F1 Score of KNN : 0.79\n",
      "The F1 Score of SVM (C=10, gamma=0.1): 0.77\n"
     ]
    }
   ],
   "source": [
    "print('The F1 Score of Logistics Regression Model : 0.73')\n",
    "print('The F1 Score of Random Forest : 0.83')\n",
    "print('The F1 Score of KNN : 0.79')\n",
    "print('The F1 Score of SVM (C=10, gamma=0.1): 0.77')"
   ]
  },
  {
   "cell_type": "markdown",
   "metadata": {},
   "source": [
    "** Overall, the Random Forest performs best among four methods of classification. **"
   ]
  }
 ],
 "metadata": {
  "kernelspec": {
   "display_name": "Python 3",
   "language": "python",
   "name": "python3"
  },
  "language_info": {
   "codemirror_mode": {
    "name": "ipython",
    "version": 3
   },
   "file_extension": ".py",
   "mimetype": "text/x-python",
   "name": "python",
   "nbconvert_exporter": "python",
   "pygments_lexer": "ipython3",
   "version": "3.6.8"
  }
 },
 "nbformat": 4,
 "nbformat_minor": 2
}
